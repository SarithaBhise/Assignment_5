{
 "cells": [
  {
   "cell_type": "markdown",
   "id": "f4b78710",
   "metadata": {},
   "source": [
    "## 1: Square Numbers and Return Their Sum"
   ]
  },
  {
   "cell_type": "code",
   "execution_count": 56,
   "id": "0bc2368f",
   "metadata": {},
   "outputs": [
    {
     "name": "stdout",
     "output_type": "stream",
     "text": [
      "sum of squares is : 35\n"
     ]
    }
   ],
   "source": [
    "class Squares:\n",
    "    def __init__(self,x,y,z):\n",
    "        self.x=x\n",
    "        self.y=y\n",
    "        self.z=z\n",
    "    def Sqsum(self):\n",
    "        return (self.x**2+self.y**2+self.z**2)\n",
    "a=Squares(1,3,5)\n",
    "print(\"sum of squares is :\",a.Sqsum())"
   ]
  },
  {
   "cell_type": "markdown",
   "id": "6de50968",
   "metadata": {},
   "source": [
    "## Implement a Calculator Class"
   ]
  },
  {
   "cell_type": "code",
   "execution_count": 25,
   "id": "255e2712",
   "metadata": {},
   "outputs": [
    {
     "name": "stdout",
     "output_type": "stream",
     "text": [
      "sum of num1 and num2 is : 70\n",
      "subtraction of num1 and num2 is: 30\n",
      "multiplication of num1 and num2 is: 1000\n",
      "division of num1 and num2 is : 2.5\n"
     ]
    }
   ],
   "source": [
    "class calculator:\n",
    "    def __init__(self,num1,num2):\n",
    "        self.num1=num1\n",
    "        self.num2=num2\n",
    "    def add(self):\n",
    "        return self.num1+self.num2\n",
    "    def subtraction(self):\n",
    "        return self.num1-self.num2\n",
    "    def multiplication(self):\n",
    "        return self.num1*self.num2\n",
    "    def division(self):\n",
    "        return self.num1/self.num2\n",
    "x=calculator(50,20)\n",
    "print(\"sum of num1 and num2 is :\",x.add())\n",
    "print(\"subtraction of num1 and num2 is:\",x.subtraction())\n",
    "print(\"multiplication of num1 and num2 is:\",x.multiplication())\n",
    "print(\"division of num1 and num2 is :\",x.division())"
   ]
  },
  {
   "cell_type": "markdown",
   "id": "2da1a068",
   "metadata": {},
   "source": [
    "## Implement the Complete Student Class"
   ]
  },
  {
   "cell_type": "code",
   "execution_count": 58,
   "id": "cf41f33e",
   "metadata": {},
   "outputs": [
    {
     "name": "stdout",
     "output_type": "stream",
     "text": [
      "Roll number is : 22\n",
      "Name is : Peter parker\n"
     ]
    }
   ],
   "source": [
    "class Student:\n",
    "    def set_name(self,name):\n",
    "        self.__name=name\n",
    "    def get_name(self):\n",
    "        return self.__name\n",
    "    def set_roll(self,Roll):\n",
    "        self.__roll=Roll\n",
    "    def get_roll(self):\n",
    "        return self.__roll\n",
    "obj=Student()\n",
    "obj.set_name(\"Peter parker\")\n",
    "obj.set_roll(22)\n",
    "print(\"Roll number is :\",obj.get_roll())\n",
    "print(\"Name is :\",obj.get_name())"
   ]
  },
  {
   "cell_type": "markdown",
   "id": "5c50e15b",
   "metadata": {},
   "source": [
    "## Implement a Banking Account"
   ]
  },
  {
   "cell_type": "code",
   "execution_count": 54,
   "id": "46f3bc86",
   "metadata": {},
   "outputs": [
    {
     "name": "stdout",
     "output_type": "stream",
     "text": [
      "Title is : peter\n",
      "Balance is : 5000\n",
      "Interest Rate is : 5\n"
     ]
    }
   ],
   "source": [
    "class Account:\n",
    "    def __init__(self,title,balance=0):\n",
    "        self.title=title\n",
    "        self.balance=balance\n",
    "        \n",
    "class Accountsavings(Account):\n",
    "    def __init__(self,title,balance,interest_rate):\n",
    "        super().__init__(title,balance)\n",
    "        self.interest_rate=interest_rate\n",
    "        \n",
    "x=Accountsavings(\"peter\",5000,5)\n",
    "print(\"Title is :\",x.title)\n",
    "print(\"Balance is :\",x.balance)\n",
    "print(\"Interest Rate is :\",x.interest_rate)\n",
    "        "
   ]
  },
  {
   "cell_type": "markdown",
   "id": "22b2b1d9",
   "metadata": {},
   "source": [
    "## Handling a Bank Account"
   ]
  },
  {
   "cell_type": "code",
   "execution_count": 44,
   "id": "1c0bdf66",
   "metadata": {},
   "outputs": [
    {
     "name": "stdout",
     "output_type": "stream",
     "text": [
      "customer name is: peter\n",
      "Amount after deposit is : 5500\n",
      "Amount after withdrawal is : 4500\n",
      "balance amount is : 4500\n",
      "interest amount is : 450.0\n",
      "total amount with interest : 4950.0\n"
     ]
    }
   ],
   "source": [
    "class Account:\n",
    "    def __init__(self,title,balance=0):\n",
    "        self.title=title\n",
    "        self.balance=balance\n",
    "        print(\"customer name is:\",self.title)\n",
    "        \n",
    "    def Deposit(self,amount):\n",
    "        self.balance=self.balance+amount\n",
    "        print(\"Amount after deposit is :\",self.balance)\n",
    "        \n",
    "    def Withdraw(self,amount):\n",
    "        self.balance=self.balance-amount\n",
    "        print(\"Amount after withdrawal is :\",self.balance)\n",
    "        \n",
    "    def get_balance(self):          \n",
    "        return self.balance\n",
    "        \n",
    "class Accountsavings(Account):\n",
    "    def __init__(self,title,balance,interest_rate):\n",
    "        super().__init__(title,balance)\n",
    "        self.interest_rate=interest_rate\n",
    "        \n",
    "    def InterestAmount(self,interest_amount):\n",
    "        interest_amount=(self.balance*self.interest_rate)/100\n",
    "        print(\"interest amount is :\",interest_amount)\n",
    "        total_amount=self.balance+interest_amount\n",
    "        print(\"total amount with interest :\",total_amount)\n",
    "        \n",
    "x=Accountsavings(\"peter\",5000,10)\n",
    "x.Deposit(500)\n",
    "x.Withdraw(1000)\n",
    "print(\"balance amount is :\",x.get_balance())\n",
    "x.InterestAmount(5)\n"
   ]
  },
  {
   "cell_type": "code",
   "execution_count": null,
   "id": "6bc6fd59",
   "metadata": {},
   "outputs": [],
   "source": []
  }
 ],
 "metadata": {
  "kernelspec": {
   "display_name": "Python 3 (ipykernel)",
   "language": "python",
   "name": "python3"
  },
  "language_info": {
   "codemirror_mode": {
    "name": "ipython",
    "version": 3
   },
   "file_extension": ".py",
   "mimetype": "text/x-python",
   "name": "python",
   "nbconvert_exporter": "python",
   "pygments_lexer": "ipython3",
   "version": "3.9.13"
  }
 },
 "nbformat": 4,
 "nbformat_minor": 5
}
